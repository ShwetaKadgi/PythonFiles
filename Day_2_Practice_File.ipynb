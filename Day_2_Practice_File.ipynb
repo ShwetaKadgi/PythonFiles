{
 "cells": [
  {
   "cell_type": "code",
   "execution_count": 1,
   "metadata": {},
   "outputs": [
    {
     "name": "stdout",
     "output_type": "stream",
     "text": [
      "60\n"
     ]
    }
   ],
   "source": [
    "# Understanding the variables \n",
    " \n",
    "# Variables are the value holders \n",
    "\n",
    "var_1 = 50\n",
    "var_2 = 10\n",
    "print(var_1+var_2)"
   ]
  },
  {
   "cell_type": "code",
   "execution_count": 2,
   "metadata": {},
   "outputs": [
    {
     "name": "stdout",
     "output_type": "stream",
     "text": [
      "Shweta\n"
     ]
    }
   ],
   "source": [
    "# Rules for declaring the variables \n",
    "\n",
    "# first name= 'Shweta' -----> Incorrect method to declare a variable because variable name cannot consist of name spaces \n",
    "first_name = 'Shweta' # Correct method to declare a variable \n",
    "lastname = 'Kadgi'  # correct \n",
    "print(first_name)"
   ]
  },
  {
   "cell_type": "code",
   "execution_count": 3,
   "metadata": {},
   "outputs": [
    {
     "name": "stdout",
     "output_type": "stream",
     "text": [
      "Faiyaz\n"
     ]
    }
   ],
   "source": [
    "# Rule 2 : Variable name should not start with a number \n",
    "\n",
    "# 1first_Name = 'Faiyaz' ------> incorrect \n",
    "first_Name1 = 'Faiyaz'\n",
    "print(first_Name1)"
   ]
  },
  {
   "cell_type": "code",
   "execution_count": 4,
   "metadata": {},
   "outputs": [],
   "source": [
    "# Rule 3 \n",
    "# No special characters should be used while declaring a variable name "
   ]
  },
  {
   "cell_type": "code",
   "execution_count": 5,
   "metadata": {},
   "outputs": [
    {
     "name": "stdout",
     "output_type": "stream",
     "text": [
      "Shweta\n"
     ]
    }
   ],
   "source": [
    "# Declaration of strings \n",
    "\n",
    "name ='Shweta'  # Using single quotes \n",
    "print(name)"
   ]
  },
  {
   "cell_type": "code",
   "execution_count": 6,
   "metadata": {},
   "outputs": [
    {
     "name": "stdout",
     "output_type": "stream",
     "text": [
      "Sneha\n"
     ]
    }
   ],
   "source": [
    "name_2 = \"Sneha\" # Using double quotes \n",
    "print(name_2)"
   ]
  },
  {
   "cell_type": "code",
   "execution_count": 7,
   "metadata": {},
   "outputs": [
    {
     "name": "stdout",
     "output_type": "stream",
     "text": [
      "Snehal\n"
     ]
    }
   ],
   "source": [
    "name_3 = \"\"\"Snehal\"\"\" # Using triple quotes \n",
    "print(name_3)"
   ]
  },
  {
   "cell_type": "code",
   "execution_count": null,
   "metadata": {},
   "outputs": [],
   "source": []
  }
 ],
 "metadata": {
  "kernelspec": {
   "display_name": "Python 3",
   "language": "python",
   "name": "python3"
  },
  "language_info": {
   "codemirror_mode": {
    "name": "ipython",
    "version": 3
   },
   "file_extension": ".py",
   "mimetype": "text/x-python",
   "name": "python",
   "nbconvert_exporter": "python",
   "pygments_lexer": "ipython3",
   "version": "3.7.3"
  }
 },
 "nbformat": 4,
 "nbformat_minor": 2
}
