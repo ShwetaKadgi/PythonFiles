{
 "cells": [
  {
   "cell_type": "code",
   "execution_count": 10,
   "metadata": {},
   "outputs": [
    {
     "name": "stdout",
     "output_type": "stream",
     "text": [
      "['Orchid', 'Sunflower', 'Jasmine']\n"
     ]
    }
   ],
   "source": [
    "# slicing of the list \n",
    "\n",
    "flowers =['Rose', 'Daisy', 'Orchid', 'Sunflower', 'Jasmine', 'Hibiscus']\n",
    "print(flowers[2:5]) "
   ]
  },
  {
   "cell_type": "code",
   "execution_count": 11,
   "metadata": {},
   "outputs": [
    {
     "name": "stdout",
     "output_type": "stream",
     "text": [
      "['Rose', 'Daisy', 'Orchid', 'Sunflower', 'Jasmine', 'Hibiscus']\n"
     ]
    }
   ],
   "source": [
    "print(flowers)"
   ]
  },
  {
   "cell_type": "code",
   "execution_count": 12,
   "metadata": {},
   "outputs": [
    {
     "name": "stdout",
     "output_type": "stream",
     "text": [
      "['Orchid', 'Sunflower', 'Jasmine']\n"
     ]
    }
   ],
   "source": [
    "# for displaying Orchid, Sunflower and Jasmine\n",
    "\n",
    "print(flowers[2:5])"
   ]
  },
  {
   "cell_type": "code",
   "execution_count": 13,
   "metadata": {},
   "outputs": [
    {
     "name": "stdout",
     "output_type": "stream",
     "text": [
      "['Sunflower', 'Jasmine', 'Hibiscus']\n"
     ]
    }
   ],
   "source": [
    "# for displaying Sunflower, Jasmine and Hibiscus\n",
    "\n",
    "print(flowers[3:6])"
   ]
  },
  {
   "cell_type": "code",
   "execution_count": 14,
   "metadata": {},
   "outputs": [
    {
     "name": "stdout",
     "output_type": "stream",
     "text": [
      "Hibiscus\n"
     ]
    }
   ],
   "source": [
    "# negative indexing in the lists \n",
    "\n",
    "print(flowers[-1])"
   ]
  },
  {
   "cell_type": "code",
   "execution_count": 15,
   "metadata": {},
   "outputs": [
    {
     "name": "stdout",
     "output_type": "stream",
     "text": [
      "Hibiscus\n"
     ]
    }
   ],
   "source": [
    "# positive indexing in the lists \n",
    "\n",
    "print(flowers[5])"
   ]
  },
  {
   "cell_type": "code",
   "execution_count": 16,
   "metadata": {},
   "outputs": [
    {
     "name": "stdout",
     "output_type": "stream",
     "text": [
      "['Rose', 'Daisy', 'Orchid', 'Sunflower', 'Jasmine', 'Hibiscus']\n"
     ]
    }
   ],
   "source": [
    "# how to reverse a string without using any method \n",
    "\n",
    "print(flowers)"
   ]
  },
  {
   "cell_type": "code",
   "execution_count": 17,
   "metadata": {},
   "outputs": [
    {
     "name": "stdout",
     "output_type": "stream",
     "text": [
      "['Hibiscus', 'Jasmine', 'Sunflower', 'Orchid', 'Daisy', 'Rose']\n"
     ]
    }
   ],
   "source": [
    "print(flowers[::-1])"
   ]
  },
  {
   "cell_type": "code",
   "execution_count": 18,
   "metadata": {},
   "outputs": [
    {
     "name": "stdout",
     "output_type": "stream",
     "text": [
      "(10, 200)\n"
     ]
    }
   ],
   "source": [
    "# Introduction to tuple data type \n",
    "\n",
    "# tuple is an immutable data type \n",
    "\n",
    "# tuple is declared by using round brackets \n",
    "\n",
    "tuple=(10, 200)\n",
    "print(tuple)"
   ]
  },
  {
   "cell_type": "code",
   "execution_count": 19,
   "metadata": {},
   "outputs": [
    {
     "name": "stdout",
     "output_type": "stream",
     "text": [
      "(100, 20)\n"
     ]
    }
   ],
   "source": [
    "# tuple[0]=10 ------> Error message is given as tuple object does not support item assignment \n",
    "\n",
    "tuple=(100,20)\n",
    "print(tuple)"
   ]
  },
  {
   "cell_type": "code",
   "execution_count": 21,
   "metadata": {},
   "outputs": [
    {
     "data": {
      "text/plain": [
       "6"
      ]
     },
     "execution_count": 21,
     "metadata": {},
     "output_type": "execute_result"
    }
   ],
   "source": [
    "# different methods to be applied on tuples \n",
    "\n",
    "# displaying the length of the tuple \n",
    "len(flowers)"
   ]
  },
  {
   "cell_type": "code",
   "execution_count": 22,
   "metadata": {},
   "outputs": [],
   "source": [
    "# deleting an element from tuple is not possible but, entire tuple can be completely deleted \n",
    "\n",
    "del flowers"
   ]
  },
  {
   "cell_type": "code",
   "execution_count": 24,
   "metadata": {},
   "outputs": [],
   "source": [
    "# print(flowers) ------->  Error will be displayed as we have deleted the tuple "
   ]
  },
  {
   "cell_type": "code",
   "execution_count": 25,
   "metadata": {},
   "outputs": [
    {
     "data": {
      "text/plain": [
       "1"
      ]
     },
     "execution_count": 25,
     "metadata": {},
     "output_type": "execute_result"
    }
   ],
   "source": [
    "tuple.count(100)"
   ]
  },
  {
   "cell_type": "code",
   "execution_count": 26,
   "metadata": {},
   "outputs": [
    {
     "data": {
      "text/plain": [
       "0"
      ]
     },
     "execution_count": 26,
     "metadata": {},
     "output_type": "execute_result"
    }
   ],
   "source": [
    "tuple.index(100)"
   ]
  },
  {
   "cell_type": "code",
   "execution_count": 27,
   "metadata": {},
   "outputs": [
    {
     "data": {
      "text/plain": [
       "1"
      ]
     },
     "execution_count": 27,
     "metadata": {},
     "output_type": "execute_result"
    }
   ],
   "source": [
    "tuple.index(20)"
   ]
  },
  {
   "cell_type": "code",
   "execution_count": null,
   "metadata": {},
   "outputs": [],
   "source": []
  }
 ],
 "metadata": {
  "kernelspec": {
   "display_name": "Python 3",
   "language": "python",
   "name": "python3"
  },
  "language_info": {
   "codemirror_mode": {
    "name": "ipython",
    "version": 3
   },
   "file_extension": ".py",
   "mimetype": "text/x-python",
   "name": "python",
   "nbconvert_exporter": "python",
   "pygments_lexer": "ipython3",
   "version": "3.7.3"
  }
 },
 "nbformat": 4,
 "nbformat_minor": 2
}
