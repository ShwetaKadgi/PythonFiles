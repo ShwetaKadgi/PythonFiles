{
 "cells": [
  {
   "cell_type": "code",
   "execution_count": 3,
   "metadata": {},
   "outputs": [
    {
     "name": "stdout",
     "output_type": "stream",
     "text": [
      "name\n",
      "Shweta\n",
      "ID\n",
      "Shweta@123\n",
      "Password\n",
      "12345\n"
     ]
    }
   ],
   "source": [
    "# looping through a dictionary \n",
    "user_account = { 'name':'Shweta', 'ID': 'Shweta@123', 'Password': '12345'}\n",
    "for temp1, temp2 in user_account.items():\n",
    "    print(temp1)\n",
    "    print(temp2)"
   ]
  },
  {
   "cell_type": "code",
   "execution_count": 4,
   "metadata": {},
   "outputs": [
    {
     "name": "stdout",
     "output_type": "stream",
     "text": [
      "name\n",
      "ID\n",
      "Password\n"
     ]
    }
   ],
   "source": [
    "for temp in user_account.keys():\n",
    "    print(temp)"
   ]
  },
  {
   "cell_type": "code",
   "execution_count": 6,
   "metadata": {},
   "outputs": [
    {
     "name": "stdout",
     "output_type": "stream",
     "text": [
      "Shweta\n",
      "Shweta@123\n",
      "12345\n"
     ]
    }
   ],
   "source": [
    "for temp in user_account.values():\n",
    "    print(temp)"
   ]
  },
  {
   "cell_type": "code",
   "execution_count": null,
   "metadata": {},
   "outputs": [],
   "source": []
  }
 ],
 "metadata": {
  "kernelspec": {
   "display_name": "Python 3",
   "language": "python",
   "name": "python3"
  },
  "language_info": {
   "codemirror_mode": {
    "name": "ipython",
    "version": 3
   },
   "file_extension": ".py",
   "mimetype": "text/x-python",
   "name": "python",
   "nbconvert_exporter": "python",
   "pygments_lexer": "ipython3",
   "version": "3.7.3"
  }
 },
 "nbformat": 4,
 "nbformat_minor": 2
}
