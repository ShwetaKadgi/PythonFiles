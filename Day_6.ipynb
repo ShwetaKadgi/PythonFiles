{
 "cells": [
  {
   "cell_type": "code",
   "execution_count": null,
   "metadata": {},
   "outputs": [],
   "source": [
    "# understanding the looping concepts "
   ]
  },
  {
   "cell_type": "code",
   "execution_count": 1,
   "metadata": {},
   "outputs": [
    {
     "name": "stdout",
     "output_type": "stream",
     "text": [
      "['Shweta', 'Esha', 'Akanksha', 'Sakib', 'Gazala', 'Aishwarya']\n"
     ]
    }
   ],
   "source": [
    "students= ['Shweta', 'Esha', 'Akanksha', 'Sakib', 'Gazala', 'Aishwarya']\n",
    "print(students)"
   ]
  },
  {
   "cell_type": "code",
   "execution_count": 2,
   "metadata": {},
   "outputs": [
    {
     "data": {
      "text/plain": [
       "list"
      ]
     },
     "execution_count": 2,
     "metadata": {},
     "output_type": "execute_result"
    }
   ],
   "source": [
    "type(students)"
   ]
  },
  {
   "cell_type": "code",
   "execution_count": 3,
   "metadata": {},
   "outputs": [
    {
     "name": "stdout",
     "output_type": "stream",
     "text": [
      "Keep up the good work, Shweta\n",
      "Keep up the good work, Esha\n",
      "Keep up the good work, Akanksha\n",
      "Keep up the good work, Sakib\n",
      "Keep up the good work, Gazala\n",
      "Keep up the good work, Aishwarya\n"
     ]
    }
   ],
   "source": [
    "# requirement : To appreciate all the students at a single go \n",
    "\n",
    "for student in students:\n",
    "    print(f\"Keep up the good work, {student}\")"
   ]
  },
  {
   "cell_type": "code",
   "execution_count": null,
   "metadata": {},
   "outputs": [],
   "source": [
    "# general syntax for a for loop \n",
    "\n",
    "for temp_var in per_var:\n",
    "    print(temp_var)  # Indentation plays a vital role in getting the idea of a block of code \n",
    "    \n",
    "# if proper indentation not given, then python gives an error message "
   ]
  }
 ],
 "metadata": {
  "kernelspec": {
   "display_name": "Python 3",
   "language": "python",
   "name": "python3"
  },
  "language_info": {
   "codemirror_mode": {
    "name": "ipython",
    "version": 3
   },
   "file_extension": ".py",
   "mimetype": "text/x-python",
   "name": "python",
   "nbconvert_exporter": "python",
   "pygments_lexer": "ipython3",
   "version": "3.7.3"
  }
 },
 "nbformat": 4,
 "nbformat_minor": 2
}
